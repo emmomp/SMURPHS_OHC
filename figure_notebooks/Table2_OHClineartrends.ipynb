{
 "cells": [
  {
   "cell_type": "markdown",
   "id": "d29ce7af",
   "metadata": {},
   "source": [
    "# Table 2: Ocean Heat Content linear trends\n",
    "\n",
    "This notebook will reproduce table 2 from *Ocean Heat Content responses to changing Anthropogenic Aerosol Forcing Strength: regional and multi-decadal variability*, E. Boland et al. 2022 (doi to come). This will require utils.py (expects to find it in ../code) and input datafiles (expects to find them in ../data_in) to run - please see the README for details. Output is saved to a tex file named 'table2.tex', automatically in ../figs/\n",
    "\n",
    "The data files loaded were created as follows:\n",
    "- ohc\\_\\[exp\\]\\_\\[run\\]\\_\\[basin\\].nc and ohc\\_bydepth\\_\\[exp\\]\\_\\[run\\]\\_\\[basin\\].nc from ohc_by_basin_depth.py\n",
    "- ohc_pic_all_drift.nc from ohc_by_basin_depth_pic.py followed by ohc_pic_drift.py\n",
    "\n",
    "Please attribute any plots or code from this notebook using the DOI from Zenodo: TO COME\n",
    "\n",
    "E Boland Feb 2022 [emmomp@bas.ac.uk](email:emmomp@bas.ac.uk)"
   ]
  },
  {
   "cell_type": "code",
   "execution_count": 1,
   "id": "9efe55b4-01eb-437a-b142-652ab4cea230",
   "metadata": {},
   "outputs": [],
   "source": [
    "import xarray as xr\n",
    "import sys\n",
    "sys.path.insert(0,'../code/')\n",
    "import utils"
   ]
  },
  {
   "cell_type": "code",
   "execution_count": 2,
   "id": "8cabe059-f346-4607-9599-4969b9309428",
   "metadata": {},
   "outputs": [],
   "source": [
    "# Directories for saving plots and finding input data\n",
    "tables_dir = '../figs/' # Where you want the table saved\n",
    "data_dir='../data_in/' # Where the input data is (see README)\n",
    "\n",
    "# Experiment info, don't alter\n",
    "exps=['historical0p2','historical0p4','historical0p7','historical1p0','historical1p5']\n",
    "runs=['r1i1p1f1','r2i1p1f1','r3i1p1f1','r4i1p1f1','r5i1p1f1']\n",
    "basins=['global','atl','pac','so','ind']"
   ]
  },
  {
   "cell_type": "code",
   "execution_count": 5,
   "id": "6d3ac48b-8360-41e9-ab40-ee075ffe9563",
   "metadata": {},
   "outputs": [],
   "source": [
    "ohc_basin_fd=[]\n",
    "for basin in basins:\n",
    "    ohc_temp=[]\n",
    "    for exp in exps:\n",
    "        ohc_temp.append(xr.open_mfdataset(data_dir+'ohc_tseries/ohc_'+exp+'*'+basin+'*.nc',concat_dim='run',combine='nested',data_vars=['ohc',], coords='minimal', compat='override'))\n",
    "    ohc_temp=xr.combine_nested(ohc_temp,concat_dim='exp',coords='minimal',data_vars=['ohc',]) \n",
    "    ohc_basin_fd.append(ohc_temp)\n",
    "ohc_basin_fd=xr.concat(ohc_basin_fd,'basin',coords='minimal',data_vars=['ohc',],compat='override') "
   ]
  },
  {
   "cell_type": "code",
   "execution_count": 8,
   "id": "e6749fa2-f9c0-4898-85b4-8f1e012b6ae5",
   "metadata": {},
   "outputs": [],
   "source": [
    "ohc_basin=[]\n",
    "for basin in basins:\n",
    "    ohc_global=[]\n",
    "    for exp in exps:\n",
    "        ohc_global.append(xr.open_mfdataset(data_dir+'ohc_tseries/ohc_bydepth_'+exp+'*'+basin+'*.nc',concat_dim='run',combine='nested',data_vars=['ohc',]))\n",
    "    ohc_global=xr.combine_nested(ohc_global,concat_dim='exp',data_vars=['ohc',]) \n",
    "    ohc_basin.append(ohc_global)\n",
    "ohc_basin=xr.concat(ohc_basin,'basin',data_vars=['ohc',],compat='override',coords='minimal') "
   ]
  },
  {
   "cell_type": "code",
   "execution_count": 9,
   "id": "122f8cef-b414-4e83-a7c9-8dc9ca067a1f",
   "metadata": {},
   "outputs": [],
   "source": [
    "ohc_basin_fd['deptht_bins']=(('deptht_bins'),[b'Full Depth',])\n",
    "ohc_all = xr.concat([ohc_basin_fd,ohc_basin],'deptht_bins')\n",
    "ohc_all=ohc_all.swap_dims({'time_counter':'time_centered'})"
   ]
  },
  {
   "cell_type": "code",
   "execution_count": 10,
   "id": "323cd9db-d1d2-4149-a539-88ce5fcea153",
   "metadata": {},
   "outputs": [],
   "source": [
    "ohc_delta=(ohc_all.sel(time_centered=slice('1995-01-01',None)).mean(dim='time_centered'))-(ohc_all.sel(time_centered=slice(None,'1870-01-01')).mean(dim='time_centered'))\n",
    "ohc_delta=ohc_delta/1e22/((2005-1860)/100)\n",
    "ohc_delta['forc']=('exp',[0.38,0.6,0.93,1.17,1.5])\n",
    "ohc_delta.ohc.attrs['long_name']='OHC'\n",
    "ohc_delta.ohc.attrs['units']='x10$^{22}$ J/century'   \n",
    "ohc_delta.forc.attrs['long_name']='-(Aerosol Equivalent Radiative Forcing)'\n",
    "ohc_delta.forc.attrs['units']='W/m$^2$'   "
   ]
  },
  {
   "cell_type": "code",
   "execution_count": 11,
   "id": "37d9470e-f135-492d-8d83-943bc867d390",
   "metadata": {},
   "outputs": [],
   "source": [
    "# Stack run and experiment dimensions to get all 25 ensemble members \n",
    "XX=ohc_delta.forc.broadcast_like(ohc_delta.ohc).stack({'run_exp':['run','exp']}).chunk({'run_exp': -1})\n",
    "YY=ohc_delta.ohc.stack({'run_exp':['run','exp']}).chunk({'run_exp': -1})\n",
    "stats_out=utils.lin_regress(XX,YY,[['run_exp'],['run_exp']]) #Calls a vectorised version of scipy.stats.linregress"
   ]
  },
  {
   "cell_type": "code",
   "execution_count": 12,
   "id": "f51bebd9-500b-4730-91af-13bb8a3b1f55",
   "metadata": {},
   "outputs": [],
   "source": [
    "r2=stats_out.sel(parameter='r_value')**2\n",
    "r2['parameter']='r^2'\n",
    "stats_out=xr.concat([stats_out,r2],'parameter')"
   ]
  },
  {
   "cell_type": "code",
   "execution_count": 13,
   "id": "3288a104-021e-48eb-90ca-674bb7303801",
   "metadata": {},
   "outputs": [],
   "source": [
    "stats_out=stats_out.compute()"
   ]
  },
  {
   "cell_type": "code",
   "execution_count": 19,
   "id": "dbdeef55-9450-4bc7-acec-68ae9318dfee",
   "metadata": {},
   "outputs": [],
   "source": [
    "#Create latex formatted table and write to file\n",
    "nd=stats_out.deptht_bins.size\n",
    "\n",
    "with open(tables_dir+'table2.tex','w') as f:\n",
    "    print('&&\\\\textbf{Global} & \\\\textbf{Atlantic} & \\\\textbf{Pacific} & \\\\textbf{Southern} & \\\\textbf{Indian}  \\\\\\\\',file=f)\n",
    "    for id in range(0,nd):\n",
    "        depth_label=stats_out['deptht_bins'].values[id]\n",
    "        r2=stats_out.sel(parameter='r^2').isel(deptht_bins=id).data\n",
    "        slopes=stats_out.sel(parameter='slope').isel(deptht_bins=id).data\n",
    "        errs=stats_out.sel(parameter='std_err').isel(deptht_bins=id).data\n",
    "        str='\\\\textbf{{{}}} & $R^2$ & \\\\textbf{{{:0.2f}}}  &  \\\\textbf{{{:0.2f}}}   &  \\\\textbf{{{:0.2f}}}   &   \\\\textbf{{{:0.2f}}}    &  \\\\textbf{{{:0.2f}}}  \\\\\\\\\\\n",
    "    & Slope  & ${:0.1f}\\\\pm{:0.1f}$& ${:0.1f}\\\\pm{:0.1f}$& ${:0.1f}\\\\pm{:0.1f}$ & ${:0.1f}\\\\pm{:0.1f}$ & ${:0.1f}\\pm{:0.1f}$  \\\\\\\\'.format(depth_label,r2[0],r2[1],r2[2],r2[3],r2[4],slopes[0],errs[0],slopes[1],errs[1],slopes[2],errs[2],slopes[3],errs[3],slopes[4],errs[4])\n",
    "        if id ==1:\n",
    "            print('\\\\hline \\\\hline',file=f)\n",
    "        else:\n",
    "            print('\\\\hline',file=f)\n",
    "        print(str,file=f)\n",
    "    "
   ]
  },
  {
   "cell_type": "code",
   "execution_count": null,
   "id": "68e2ed10-d5e7-472a-a7c7-78af27e22893",
   "metadata": {},
   "outputs": [],
   "source": []
  }
 ],
 "metadata": {
  "kernelspec": {
   "display_name": "nbenvconda",
   "language": "python",
   "name": "nbenvconda"
  },
  "language_info": {
   "codemirror_mode": {
    "name": "ipython",
    "version": 3
   },
   "file_extension": ".py",
   "mimetype": "text/x-python",
   "name": "python",
   "nbconvert_exporter": "python",
   "pygments_lexer": "ipython3",
   "version": "3.9.4"
  }
 },
 "nbformat": 4,
 "nbformat_minor": 5
}
